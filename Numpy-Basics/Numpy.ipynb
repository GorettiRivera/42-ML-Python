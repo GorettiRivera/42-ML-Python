{
  "nbformat": 4,
  "nbformat_minor": 0,
  "metadata": {
    "kernelspec": {
      "display_name": "Python 3",
      "language": "python",
      "name": "python3"
    },
    "language_info": {
      "codemirror_mode": {
        "name": "ipython",
        "version": 3
      },
      "file_extension": ".py",
      "mimetype": "text/x-python",
      "name": "python",
      "nbconvert_exporter": "python",
      "pygments_lexer": "ipython3",
      "version": "3.7.4"
    },
    "colab": {
      "name": "Numpy.ipynb",
      "provenance": [],
      "collapsed_sections": [],
      "toc_visible": true
    }
  },
  "cells": [
    {
      "cell_type": "markdown",
      "metadata": {
        "id": "9573omKz2xwW",
        "colab_type": "text"
      },
      "source": [
        "# <span style=\"color:blue\"> **Numpy - Basics** </span>\n",
        "### Exercise 00: Creating a numpy array using arange"
      ]
    },
    {
      "cell_type": "code",
      "metadata": {
        "id": "Yq4K4fhH2xwZ",
        "colab_type": "code",
        "colab": {
          "base_uri": "https://localhost:8080/",
          "height": 34
        },
        "outputId": "7859f23e-d702-4641-def0-7ad584feafca"
      },
      "source": [
        "import numpy as np\n",
        "\n",
        "# arange([start,] stop[, step,][, dtype]) : Returns an array with evenly spaced elements as per the interval. \n",
        "# The interval mentioned is half opened i.e. [Start, Stop)\n",
        "\n",
        "a = np.arange(10)\n",
        "print(a)\n"
      ],
      "execution_count": 30,
      "outputs": [
        {
          "output_type": "stream",
          "text": [
            "[0 1 2 3 4 5 6 7 8 9]\n"
          ],
          "name": "stdout"
        }
      ]
    },
    {
      "cell_type": "markdown",
      "metadata": {
        "id": "C1zaAUNP2xwf",
        "colab_type": "text"
      },
      "source": [
        "### Exercise 01: Extract elements from an array\n",
        "\n",
        "- Declare and initialize an array as done below:\n",
        "    * arr = np.array([0, 1, 2, 3, 4, 5, 6, 7, 8, 9])\n",
        "\n",
        "- Then, extract all odd numbers from arr to achieve the desired output.\n",
        "    * Desired output:\n",
        "    [1 3 5 7 9]"
      ]
    },
    {
      "cell_type": "code",
      "metadata": {
        "id": "N4-QLodV2xwg",
        "colab_type": "code",
        "colab": {
          "base_uri": "https://localhost:8080/",
          "height": 34
        },
        "outputId": "59114a1e-160e-41be-b0e4-adefc7d6682f"
      },
      "source": [
        "arr = np.array([0, 1, 2, 3, 4, 5, 6, 7, 8, 9])\n",
        "new_arr = np.array([],dtype=int)\n",
        "\n",
        "for num in arr:\n",
        "    if num % 2 != 0:\n",
        "        new_arr = np.insert(new_arr, len(new_arr), num)\n",
        "print(new_arr)"
      ],
      "execution_count": 29,
      "outputs": [
        {
          "output_type": "stream",
          "text": [
            "[1 3 5 7 9]\n"
          ],
          "name": "stdout"
        }
      ]
    },
    {
      "cell_type": "markdown",
      "metadata": {
        "id": "ZtnQaPta2xwk",
        "colab_type": "text"
      },
      "source": [
        "### Exercise 02: Converting a one-dimensional array to two-dimensional\n",
        "\n",
        "- Declare and initialize an array as done below\n",
        "    * np.arange(10)\n",
        "\n",
        "- Try recreating this output:\n",
        "\n",
        "    [[0 1 2 3 4]\n",
        "    \n",
        "    [5 6 7 8 9]]"
      ]
    },
    {
      "cell_type": "code",
      "metadata": {
        "id": "Nvo-pEg52xwl",
        "colab_type": "code",
        "colab": {
          "base_uri": "https://localhost:8080/",
          "height": 51
        },
        "outputId": "21d4ec61-d5b3-4521-9ea5-00466fc11863"
      },
      "source": [
        "# numpy.reshape(array, shape, order = ‘C’) : shapes an array without changing data of array.\n",
        "\n",
        "arr = np.arange(10).reshape(2,5)\n",
        "print(arr)\n"
      ],
      "execution_count": 31,
      "outputs": [
        {
          "output_type": "stream",
          "text": [
            "[[0 1 2 3 4]\n",
            " [5 6 7 8 9]]\n"
          ],
          "name": "stdout"
        }
      ]
    },
    {
      "cell_type": "markdown",
      "metadata": {
        "id": "qLRLLvst2xwq",
        "colab_type": "text"
      },
      "source": [
        "### Exercise 03: Inspecting a numpy array\n",
        "\n",
        "- Create a 2d array with 3 rows and 4 columns\n",
        "- Inspect its shape, datatype, size, number dimensions"
      ]
    },
    {
      "cell_type": "code",
      "metadata": {
        "id": "YkyXooqh2xwr",
        "colab_type": "code",
        "colab": {
          "base_uri": "https://localhost:8080/",
          "height": 85
        },
        "outputId": "d023ada6-dcda-4a8f-a5e9-3546b0bb0b28"
      },
      "source": [
        "myList = np.array([[1, 2, 3, 4],[3, 4, 5, 6], [5, 6, 7, 8]])\n",
        "\n",
        "# Shape: Gives an idea of how many (rows, columns) are there in a given array.\n",
        "print(\"Shape:\", myList.shape)\n",
        "\n",
        "# Data type:  To get the data type of the array.\n",
        "print(\"dtype:\", myList.dtype)\n",
        "\n",
        "# Size: To get the size of the array in ‘kB’.\n",
        "print(\"Size:\", myList.itemsize)\n",
        "\n",
        "# Number dimensions: To get the dimensionality of the array.\n",
        "print(\"Dimensions:\", myList.ndim)"
      ],
      "execution_count": 32,
      "outputs": [
        {
          "output_type": "stream",
          "text": [
            "Shape: (3, 4)\n",
            "dtype: int64\n",
            "Size: 8\n",
            "Dimensions: 2\n"
          ],
          "name": "stdout"
        }
      ]
    },
    {
      "cell_type": "markdown",
      "metadata": {
        "id": "D8pjvw5n7lW9",
        "colab_type": "text"
      },
      "source": [
        "### Exercise 04: Stack them (arrays) up!\n",
        "\n",
        "- Stack the arrays a and b vertically\n",
        "\n",
        "  * a = np.arange(10).reshape(2,-1)\n",
        "  * b = np.repeat(1, 10).reshape(2,-1)\n",
        "\n",
        "- Try creating this output:\n",
        "\n",
        "  [[0 1 2 3 4]\n",
        "\n",
        "  [5 6 7 8 9]\n",
        "\n",
        "  [1 1 1 1 1]\n",
        "  \n",
        "  [1 1 1 1 1]]"
      ]
    },
    {
      "cell_type": "code",
      "metadata": {
        "id": "NAQA-sOl5ryb",
        "colab_type": "code",
        "colab": {
          "base_uri": "https://localhost:8080/",
          "height": 238
        },
        "outputId": "85edd6a1-e7bb-4e0e-b108-8ad5fbe24937"
      },
      "source": [
        "a = np.arange(10).reshape(2,-1)\n",
        "print(\"1st Input array : \\n\", a, \"\\n\")  \n",
        "\n",
        "b = np.repeat(1, 10).reshape(2,-1)\n",
        "print(\"2nd Input array : \\n\", b, \"\\n\")  \n",
        "\n",
        "#numpy.vstack() function is used to stack the sequence of input arrays vertically to make a single array.\n",
        "# Stacking the two arrays vertically \n",
        "\n",
        "out_arr = np.vstack((a,b))\n",
        "print(\"Output vertically stacked array:\\n\", out_arr) "
      ],
      "execution_count": 33,
      "outputs": [
        {
          "output_type": "stream",
          "text": [
            "1st Input array : \n",
            " [[0 1 2 3 4]\n",
            " [5 6 7 8 9]] \n",
            "\n",
            "2nd Input array : \n",
            " [[1 1 1 1 1]\n",
            " [1 1 1 1 1]] \n",
            "\n",
            "Output vertically stacked array:\n",
            " [[0 1 2 3 4]\n",
            " [5 6 7 8 9]\n",
            " [1 1 1 1 1]\n",
            " [1 1 1 1 1]]\n"
          ],
          "name": "stdout"
        }
      ]
    },
    {
      "cell_type": "markdown",
      "metadata": {
        "id": "bzs5ZO9ADKOA",
        "colab_type": "text"
      },
      "source": [
        "### Exercise 05: Replacing missing value\n",
        "\n",
        "  myList = [[1, 2, 3, 4],[3, 4, 5, 6], [5, 6, 7, 8]]\n",
        "\n",
        "  arr = np.array(myList, dtype='float')\n",
        "\n",
        "  arr[1,1] = np.nan # not a number\n",
        "\n",
        "  arr[1,2] = np.inf # infinite\n",
        "\n",
        "  print(arr)\n",
        "\n",
        "* Output:\n",
        "\n",
        "  [[ 1. 2. 3. 4.]\n",
        "\n",
        "  [ 3. -1. -1. 6.]\n",
        "\n",
        "  [ 5. 6. 7. 8.]]"
      ]
    },
    {
      "cell_type": "code",
      "metadata": {
        "id": "STGqUBYy8agI",
        "colab_type": "code",
        "colab": {
          "base_uri": "https://localhost:8080/",
          "height": 153
        },
        "outputId": "5c9bc863-1ed9-44b2-d4e3-9ef464f72963"
      },
      "source": [
        "myList = [[1, 2, 3, 4],[3, 4, 5, 6], [5, 6, 7, 8]]\n",
        "arr = np.array(myList, dtype='float')\n",
        "arr[1,1] = np.nan # not a number\n",
        "arr[1,2] = np.inf # infinite\n",
        "print(arr, \"\\n\")\n",
        "\n",
        "# find indices where nan and inf value are present \n",
        "indNan = np.where(np.isnan(arr))\n",
        "indInf = np.where(np.isinf(arr))\n",
        "\n",
        "# replace inds with a value\n",
        "arr[indNan] = -1\n",
        "arr[indInf] = -1\n",
        "\n",
        "# printing final array \n",
        "print (\"Final array \\n\", arr) \n"
      ],
      "execution_count": 56,
      "outputs": [
        {
          "output_type": "stream",
          "text": [
            "[[ 1.  2.  3.  4.]\n",
            " [ 3. nan inf  6.]\n",
            " [ 5.  6.  7.  8.]] \n",
            "\n",
            "Final array \n",
            " [[ 1.  2.  3.  4.]\n",
            " [ 3. -1. -1.  6.]\n",
            " [ 5.  6.  7.  8.]]\n"
          ],
          "name": "stdout"
        }
      ]
    },
    {
      "cell_type": "markdown",
      "metadata": {
        "id": "PeYlup9eJzUk",
        "colab_type": "text"
      },
      "source": [
        "### Exercise 06: Drop all missing values from a numpy array\n",
        "\n",
        "np.array([1,2,3,np.nan,5,6,7,np.nan])\n",
        "\n",
        "- Output:\n",
        "\n",
        "  [ 1. 2. 3. 5. 6. 7.]"
      ]
    },
    {
      "cell_type": "code",
      "metadata": {
        "id": "hXk1WAPuKDnk",
        "colab_type": "code",
        "colab": {
          "base_uri": "https://localhost:8080/",
          "height": 119
        },
        "outputId": "6689adb7-88fa-4c53-9837-133a6be9c1d3"
      },
      "source": [
        "arr = np.array([1,2,3,np.nan,5,6,7,np.nan])\n",
        "print(\"Original array: \\n\", arr, \"\\n\") \n",
        "\n",
        "arr = arr[~np.isnan(arr)]\n",
        "print(\"Dropped missing values in the array: \\n\", arr, \"\\n\")\n",
        "\n",
        "# Explanation:\n",
        "# The inner function, numpy.isnan returns a boolean/logical array which has the value True everywhere that x is not-a-number. \n",
        "# As we want the opposite, we use the logical-not operator, ~ to get an array with Trues everywhere that x is a valid number.\n",
        "# Lastly we use this logical array to index into the original array x, to retrieve just the non-NaN values.\n"
      ],
      "execution_count": 65,
      "outputs": [
        {
          "output_type": "stream",
          "text": [
            "Original array: \n",
            " [ 1.  2.  3. nan  5.  6.  7. nan] \n",
            "\n",
            "Dropped missing values in the array: \n",
            " [1. 2. 3. 5. 6. 7.] \n",
            "\n"
          ],
          "name": "stdout"
        }
      ]
    },
    {
      "cell_type": "markdown",
      "metadata": {
        "id": "mmoe0tC1NILP",
        "colab_type": "text"
      },
      "source": [
        "### Exercise 07: Find duplicate records in a numpy array\n",
        "\n",
        "- Stack the arrays a and b vertically\n",
        "\n",
        "      np.random.seed(100)\n",
        "\n",
        "      a = np.random.randint(0, 5, 10)\n",
        "\n",
        "      print('Array: ', a)\n",
        "\n",
        "\n",
        "Mark the unique position as false:\n",
        "\n",
        "Output:\n",
        "\n",
        "[False True False True False False True True True True]"
      ]
    },
    {
      "cell_type": "code",
      "metadata": {
        "id": "sasEA80iOVPp",
        "colab_type": "code",
        "colab": {
          "base_uri": "https://localhost:8080/",
          "height": 170
        },
        "outputId": "c06a82a6-0b3e-4626-f60d-5aa09c9773f0"
      },
      "source": [
        "a = np.random.seed(100)\n",
        "a = np.random.randint(0, 5, 10)\n",
        "print('Array: \\n', a , \"\\n\")\n",
        "\n",
        "# Create All True Array\n",
        "output = np.full(a.shape[0], True)        \n",
        "\n",
        "# Find Unique Elements\n",
        "uniques = np.unique(a, return_index=True)[1]   \n",
        "\n",
        "# Return value: The indices of the first occurrences of the unique values in the original array. \n",
        "# Only provided if return_index is True.\n",
        "print(\"Indeces of Unique values:\\n\",uniques , \"\\n\")\n",
        "\n",
        "# Mark Them as False\n",
        "output[uniques] = False  \n",
        "\n",
        "print(\"Output: \\n\", output , \"\\n\")"
      ],
      "execution_count": 93,
      "outputs": [
        {
          "output_type": "stream",
          "text": [
            "Array: \n",
            " [0 0 3 0 2 4 2 2 2 2] \n",
            "\n",
            "Indeces of Unique values:\n",
            " [0 4 2 5] \n",
            "\n",
            "Output: \n",
            " [False  True False  True False False  True  True  True  True] \n",
            "\n"
          ],
          "name": "stdout"
        }
      ]
    }
  ]
}