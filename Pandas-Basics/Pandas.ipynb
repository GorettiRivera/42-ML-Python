{
  "nbformat": 4,
  "nbformat_minor": 0,
  "metadata": {
    "colab": {
      "name": "Pandas.ipynb",
      "provenance": [],
      "collapsed_sections": [],
      "toc_visible": true
    },
    "kernelspec": {
      "display_name": "Python 3",
      "language": "python",
      "name": "python3"
    },
    "language_info": {
      "codemirror_mode": {
        "name": "ipython",
        "version": 3
      },
      "file_extension": ".py",
      "mimetype": "text/x-python",
      "name": "python",
      "nbconvert_exporter": "python",
      "pygments_lexer": "ipython3",
      "version": "3.7.4"
    }
  },
  "cells": [
    {
      "cell_type": "markdown",
      "metadata": {
        "colab_type": "text",
        "id": "y-XEAtEaad8N"
      },
      "source": [
        "# <span style=\"color:blue\"> **Pandas - Basics** </span>\n",
        "### Exercise 00: Series\n",
        "\n",
        "- Create a one-dimensional labeled array capable of holding any data type using a Series.\n",
        "\n",
        "  Output:\n",
        "  \n",
        "      #> A 3\n",
        "      #> B 5\n",
        "      #> C 7\n",
        "      #> D 4\n",
        "    "
      ]
    },
    {
      "cell_type": "code",
      "metadata": {
        "colab_type": "code",
        "id": "yTNZWbzlal1I",
        "outputId": "6089b460-111d-4dfb-d0a1-7d4cbf61ca4e",
        "colab": {
          "base_uri": "https://localhost:8080/",
          "height": 102
        }
      },
      "source": [
        "import pandas as pd\n",
        "import numpy as np\n",
        "\n",
        "data = np.array([3,5,7,4])\n",
        "\n",
        "serie = pd.Series(data, index=['A','B','C','D'])\n",
        "\n",
        "print(serie)\n",
        "\n",
        "# Pandas Series is a one-dimensional labeled array capable of holding data of any type\n",
        "# (integer, string, float, python objects, etc.)."
      ],
      "execution_count": 27,
      "outputs": [
        {
          "output_type": "stream",
          "text": [
            "A    3\n",
            "B    5\n",
            "C    7\n",
            "D    4\n",
            "dtype: int64\n"
          ],
          "name": "stdout"
        }
      ]
    },
    {
      "cell_type": "markdown",
      "metadata": {
        "colab_type": "text",
        "id": "07NeDfXokN0C"
      },
      "source": [
        "### Exercise 01: DataFrame\n",
        "\n",
        "- Create a two-dimensional labeled data structure with columns of potentially different types using a DataFrame.\n",
        "\n",
        "  Example: \n",
        "\n",
        "      data = {'Country': ['Belgium', 'India', 'Brazil'],\n",
        "      'Capital': ['Brussels', 'New Delhi', 'Brasilia'],\n",
        "      'Population': [11190846, 1303171035, 207847528]}"
      ]
    },
    {
      "cell_type": "code",
      "metadata": {
        "colab_type": "code",
        "id": "rHxz13qSkZ58",
        "outputId": "aa5d83ad-464e-45c5-eef5-565ca5d481e3",
        "colab": {
          "base_uri": "https://localhost:8080/",
          "height": 102
        }
      },
      "source": [
        "data = {'Name':['Maria', 'Amit', 'Sergio', 'Karla'],'Age':[28,34,29,42]}\n",
        "\n",
        "df = pd.DataFrame(data)\n",
        "\n",
        "print(df)"
      ],
      "execution_count": 28,
      "outputs": [
        {
          "output_type": "stream",
          "text": [
            "     Name  Age\n",
            "0   Maria   28\n",
            "1    Amit   34\n",
            "2  Sergio   29\n",
            "3   Karla   42\n"
          ],
          "name": "stdout"
        }
      ]
    },
    {
      "cell_type": "markdown",
      "metadata": {
        "colab_type": "text",
        "id": "v7hMLZJupzbb"
      },
      "source": [
        "### Exercise 02: Display summary\n",
        "\n",
        "- Display a summary of the basic information about this DataFrame and its data.\n",
        "\n",
        "        data = {'animal': ['cat', 'cat', 'snake', 'dog', 'dog', 'cat', 'snake', 'cat', 'dog', 'dog'],\n",
        "        'age': [2.5, 3, 0.5, np.nan, 5, 2, 4.5, np.nan, 7, 3],\n",
        "        'visits': [1, 3, 2, 3, 2, 3, 1, 1, 2, 1],\n",
        "        'priority': ['yes', 'yes', 'no', 'yes', 'no', 'no', 'no', 'yes', 'no', 'no']}\n",
        "\n",
        "        labels = ['a', 'b', 'c', 'd', 'e', 'f', 'g', 'h', 'i', 'j']"
      ]
    },
    {
      "cell_type": "code",
      "metadata": {
        "colab_type": "code",
        "id": "VJ_rV-MKqxzB",
        "outputId": "994effde-c94f-4653-e975-30f6a40b4d00",
        "colab": {
          "base_uri": "https://localhost:8080/",
          "height": 747
        }
      },
      "source": [
        "data = {'animal': ['cat', 'cat', 'snake', 'dog', 'dog', 'cat', 'snake', 'cat', 'dog', 'dog'],\n",
        "'age': [2.5, 3, 0.5, np.nan, 5, 2, 4.5, np.nan, 7, 3],\n",
        "'visits': [1, 3, 2, 3, 2, 3, 1, 1, 2, 1],\n",
        "'priority': ['yes', 'yes', 'no', 'yes', 'no', 'no', 'no', 'yes', 'no', 'no']}\n",
        "\n",
        "labels = ['a', 'b', 'c', 'd', 'e', 'f', 'g', 'h', 'i', 'j']\n",
        "\n",
        "df = pd.DataFrame(data, index=labels)\n",
        "\n",
        "print(df, \"\\n\")\n",
        "\n",
        "\n",
        "# The info() function is used to print a concise summary of a DataFrame. \n",
        "# This method prints information about a DataFrame including the index dtype and column dtypes, non-null values and memory usage.\n",
        "\n",
        "df.info(verbose=True)\n",
        "\n",
        "\n",
        "# The describe() function is used to generate descriptive statistics that summarize the central tendency,\n",
        "# dispersion and shape of a dataset’s distribution, excluding NaN values.\n",
        "\n",
        "\n",
        "df.describe(include='all')\n",
        "\n",
        "# df.describe(include=[np.number])\n",
        "\n",
        "# df.describe(include=[np.object])\n",
        "\n"
      ],
      "execution_count": 99,
      "outputs": [
        {
          "output_type": "stream",
          "text": [
            "  animal  age  visits priority\n",
            "a    cat  2.5       1      yes\n",
            "b    cat  3.0       3      yes\n",
            "c  snake  0.5       2       no\n",
            "d    dog  NaN       3      yes\n",
            "e    dog  5.0       2       no\n",
            "f    cat  2.0       3       no\n",
            "g  snake  4.5       1       no\n",
            "h    cat  NaN       1      yes\n",
            "i    dog  7.0       2       no\n",
            "j    dog  3.0       1       no \n",
            "\n",
            "<class 'pandas.core.frame.DataFrame'>\n",
            "Index: 10 entries, a to j\n",
            "Data columns (total 4 columns):\n",
            "animal      10 non-null object\n",
            "age         8 non-null float64\n",
            "visits      10 non-null int64\n",
            "priority    10 non-null object\n",
            "dtypes: float64(1), int64(1), object(2)\n",
            "memory usage: 400.0+ bytes\n"
          ],
          "name": "stdout"
        },
        {
          "output_type": "execute_result",
          "data": {
            "text/html": [
              "<div>\n",
              "<style scoped>\n",
              "    .dataframe tbody tr th:only-of-type {\n",
              "        vertical-align: middle;\n",
              "    }\n",
              "\n",
              "    .dataframe tbody tr th {\n",
              "        vertical-align: top;\n",
              "    }\n",
              "\n",
              "    .dataframe thead th {\n",
              "        text-align: right;\n",
              "    }\n",
              "</style>\n",
              "<table border=\"1\" class=\"dataframe\">\n",
              "  <thead>\n",
              "    <tr style=\"text-align: right;\">\n",
              "      <th></th>\n",
              "      <th>animal</th>\n",
              "      <th>age</th>\n",
              "      <th>visits</th>\n",
              "      <th>priority</th>\n",
              "    </tr>\n",
              "  </thead>\n",
              "  <tbody>\n",
              "    <tr>\n",
              "      <th>count</th>\n",
              "      <td>10</td>\n",
              "      <td>8.000000</td>\n",
              "      <td>10.000000</td>\n",
              "      <td>10</td>\n",
              "    </tr>\n",
              "    <tr>\n",
              "      <th>unique</th>\n",
              "      <td>3</td>\n",
              "      <td>NaN</td>\n",
              "      <td>NaN</td>\n",
              "      <td>2</td>\n",
              "    </tr>\n",
              "    <tr>\n",
              "      <th>top</th>\n",
              "      <td>dog</td>\n",
              "      <td>NaN</td>\n",
              "      <td>NaN</td>\n",
              "      <td>no</td>\n",
              "    </tr>\n",
              "    <tr>\n",
              "      <th>freq</th>\n",
              "      <td>4</td>\n",
              "      <td>NaN</td>\n",
              "      <td>NaN</td>\n",
              "      <td>6</td>\n",
              "    </tr>\n",
              "    <tr>\n",
              "      <th>mean</th>\n",
              "      <td>NaN</td>\n",
              "      <td>3.437500</td>\n",
              "      <td>1.900000</td>\n",
              "      <td>NaN</td>\n",
              "    </tr>\n",
              "    <tr>\n",
              "      <th>std</th>\n",
              "      <td>NaN</td>\n",
              "      <td>2.007797</td>\n",
              "      <td>0.875595</td>\n",
              "      <td>NaN</td>\n",
              "    </tr>\n",
              "    <tr>\n",
              "      <th>min</th>\n",
              "      <td>NaN</td>\n",
              "      <td>0.500000</td>\n",
              "      <td>1.000000</td>\n",
              "      <td>NaN</td>\n",
              "    </tr>\n",
              "    <tr>\n",
              "      <th>25%</th>\n",
              "      <td>NaN</td>\n",
              "      <td>2.375000</td>\n",
              "      <td>1.000000</td>\n",
              "      <td>NaN</td>\n",
              "    </tr>\n",
              "    <tr>\n",
              "      <th>50%</th>\n",
              "      <td>NaN</td>\n",
              "      <td>3.000000</td>\n",
              "      <td>2.000000</td>\n",
              "      <td>NaN</td>\n",
              "    </tr>\n",
              "    <tr>\n",
              "      <th>75%</th>\n",
              "      <td>NaN</td>\n",
              "      <td>4.625000</td>\n",
              "      <td>2.750000</td>\n",
              "      <td>NaN</td>\n",
              "    </tr>\n",
              "    <tr>\n",
              "      <th>max</th>\n",
              "      <td>NaN</td>\n",
              "      <td>7.000000</td>\n",
              "      <td>3.000000</td>\n",
              "      <td>NaN</td>\n",
              "    </tr>\n",
              "  </tbody>\n",
              "</table>\n",
              "</div>"
            ],
            "text/plain": [
              "       animal       age     visits priority\n",
              "count      10  8.000000  10.000000       10\n",
              "unique      3       NaN        NaN        2\n",
              "top       dog       NaN        NaN       no\n",
              "freq        4       NaN        NaN        6\n",
              "mean      NaN  3.437500   1.900000      NaN\n",
              "std       NaN  2.007797   0.875595      NaN\n",
              "min       NaN  0.500000   1.000000      NaN\n",
              "25%       NaN  2.375000   1.000000      NaN\n",
              "50%       NaN  3.000000   2.000000      NaN\n",
              "75%       NaN  4.625000   2.750000      NaN\n",
              "max       NaN  7.000000   3.000000      NaN"
            ]
          },
          "metadata": {
            "tags": []
          },
          "execution_count": 99
        }
      ]
    },
    {
      "cell_type": "markdown",
      "metadata": {
        "id": "YD05fkEQe5Tu",
        "colab_type": "text"
      },
      "source": [
        "### Exercise 03: Displaying rows\n",
        "\n",
        "- Return the first 3 rows of the DataFrame df."
      ]
    },
    {
      "cell_type": "code",
      "metadata": {
        "id": "rGGnRL4Re5Tv",
        "colab_type": "code",
        "colab": {
          "base_uri": "https://localhost:8080/",
          "height": 85
        },
        "outputId": "b8cc55d4-f2eb-4ce4-ce9c-2102ec456f2b"
      },
      "source": [
        "# Dataframe.iloc[] method is used when the index label of a data frame is something other than numeric series of 0, 1, 2, 3….n \n",
        "# or in case the user doesn’t know the index label.\n",
        "\n",
        "data = df.iloc[0:3]\n",
        "\n",
        "print(data)"
      ],
      "execution_count": 100,
      "outputs": [
        {
          "output_type": "stream",
          "text": [
            "  animal  age  visits priority\n",
            "a    cat  2.5       1      yes\n",
            "b    cat  3.0       3      yes\n",
            "c  snake  0.5       2       no\n"
          ],
          "name": "stdout"
        }
      ]
    },
    {
      "cell_type": "markdown",
      "metadata": {
        "id": "rUH_3yAfe5T0",
        "colab_type": "text"
      },
      "source": [
        "### Exercise 04: Retrieving data\n",
        "\n",
        "- Select the rows the age is between 2 and 4 (inclusive)."
      ]
    },
    {
      "cell_type": "code",
      "metadata": {
        "id": "KPohBieme5T1",
        "colab_type": "code",
        "colab": {
          "base_uri": "https://localhost:8080/",
          "height": 102
        },
        "outputId": "2f4590a5-78c5-420c-fc75-2e22694a7817"
      },
      "source": [
        "df = df[df['age'].between(2, 4, inclusive= True)]\n",
        "\n",
        "print(df)"
      ],
      "execution_count": 101,
      "outputs": [
        {
          "output_type": "stream",
          "text": [
            "  animal  age  visits priority\n",
            "a    cat  2.5       1      yes\n",
            "b    cat  3.0       3      yes\n",
            "f    cat  2.0       3       no\n",
            "j    dog  3.0       1       no\n"
          ],
          "name": "stdout"
        }
      ]
    },
    {
      "cell_type": "markdown",
      "metadata": {
        "id": "Btz9u0BzkITC",
        "colab_type": "text"
      },
      "source": [
        "### Exercise 05: Adding and dropping data\n",
        "\n",
        "- Append a new row ’k’ to df with your choice of values for each column. Then delete\n",
        "that row to return the original DataFrame."
      ]
    },
    {
      "cell_type": "code",
      "metadata": {
        "id": "xfmcpaMdkRs9",
        "colab_type": "code",
        "colab": {
          "base_uri": "https://localhost:8080/",
          "height": 425
        },
        "outputId": "9ac97957-b517-4f53-9719-07cbd2b1c0bd"
      },
      "source": [
        "data2 = {'animal': ['cat', 'cat', 'snake', 'dog', 'dog', 'cat', 'snake', 'cat', 'dog', 'dog'],\n",
        "'age': [2.5, 3, 0.5, np.nan, 5, 2, 4.5, np.nan, 7, 3],\n",
        "'visits': [1, 3, 2, 3, 2, 3, 1, 1, 2, 1],\n",
        "'priority': ['yes', 'yes', 'no', 'yes', 'no', 'no', 'no', 'yes', 'no', 'no']}\n",
        "\n",
        "labels = ['a', 'b', 'c', 'd', 'e', 'f', 'g', 'h', 'i', 'j']\n",
        "\n",
        "df1 = pd.DataFrame(data2, index=labels)\n",
        "\n",
        "# Add row in the dataframe using dataframe.append() and Dictionary\n",
        "modDf = df1.append(pd.DataFrame({'animal': 'cat','age': 6, 'visits': 5,'priority': 'yes' }, index=['k']))\n",
        "print(modDf, \"\\n\")\n",
        "\n",
        "# Get names of indexes for which column animal has value k\n",
        "indexK = modDf[modDf['age'] == 6].index\n",
        "\n",
        "# Delete these row indexes from dataFrame\n",
        "modDf.drop(indexK,inplace=True)\n",
        "print(modDf)"
      ],
      "execution_count": 104,
      "outputs": [
        {
          "output_type": "stream",
          "text": [
            "  animal  age  visits priority\n",
            "a    cat  2.5       1      yes\n",
            "b    cat  3.0       3      yes\n",
            "c  snake  0.5       2       no\n",
            "d    dog  NaN       3      yes\n",
            "e    dog  5.0       2       no\n",
            "f    cat  2.0       3       no\n",
            "g  snake  4.5       1       no\n",
            "h    cat  NaN       1      yes\n",
            "i    dog  7.0       2       no\n",
            "j    dog  3.0       1       no\n",
            "k    cat  6.0       5      yes \n",
            "\n",
            "  animal  age  visits priority\n",
            "a    cat  2.5       1      yes\n",
            "b    cat  3.0       3      yes\n",
            "c  snake  0.5       2       no\n",
            "d    dog  NaN       3      yes\n",
            "e    dog  5.0       2       no\n",
            "f    cat  2.0       3       no\n",
            "g  snake  4.5       1       no\n",
            "h    cat  NaN       1      yes\n",
            "i    dog  7.0       2       no\n",
            "j    dog  3.0       1       no\n"
          ],
          "name": "stdout"
        }
      ]
    },
    {
      "cell_type": "markdown",
      "metadata": {
        "id": "EiYu7YV12KS2",
        "colab_type": "text"
      },
      "source": [
        "### Exercise 06: Calculate\n",
        "\n",
        "- Calculate the mean age for each different animal in df."
      ]
    },
    {
      "cell_type": "code",
      "metadata": {
        "id": "TTkkizyy2Os0",
        "colab_type": "code",
        "colab": {
          "base_uri": "https://localhost:8080/",
          "height": 102
        },
        "outputId": "6078ce30-1431-4875-bd43-056bbe578d84"
      },
      "source": [
        "average = df1.groupby(['animal'])['age'].mean()\n",
        "print(average)\n"
      ],
      "execution_count": 105,
      "outputs": [
        {
          "output_type": "stream",
          "text": [
            "animal\n",
            "cat      2.5\n",
            "dog      5.0\n",
            "snake    2.5\n",
            "Name: age, dtype: float64\n"
          ],
          "name": "stdout"
        }
      ]
    },
    {
      "cell_type": "markdown",
      "metadata": {
        "id": "T7o7haM__C9D",
        "colab_type": "text"
      },
      "source": [
        "### Exercise 07: Sorting\n",
        "\n",
        "- Sort df first by the values in the ’age’ in descending order, then by the values in the\n",
        "’visit’ column in ascending order."
      ]
    },
    {
      "cell_type": "code",
      "metadata": {
        "id": "xlORRNzj_IWH",
        "colab_type": "code",
        "colab": {
          "base_uri": "https://localhost:8080/",
          "height": 204
        },
        "outputId": "36139831-63ae-4f6b-a93e-a9b3b2ddbbb6"
      },
      "source": [
        "sorted = df1.sort_values(['age','visits'], ascending=[False, True])\n",
        "print(sorted)"
      ],
      "execution_count": 108,
      "outputs": [
        {
          "output_type": "stream",
          "text": [
            "  animal  age  visits priority\n",
            "i    dog  7.0       2       no\n",
            "e    dog  5.0       2       no\n",
            "g  snake  4.5       1       no\n",
            "j    dog  3.0       1       no\n",
            "b    cat  3.0       3      yes\n",
            "a    cat  2.5       1      yes\n",
            "f    cat  2.0       3       no\n",
            "c  snake  0.5       2       no\n",
            "h    cat  NaN       1      yes\n",
            "d    dog  NaN       3      yes\n"
          ],
          "name": "stdout"
        }
      ]
    }
  ]
}