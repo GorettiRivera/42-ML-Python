{
  "nbformat": 4,
  "nbformat_minor": 0,
  "metadata": {
    "colab": {
      "name": "Pandas.ipynb",
      "provenance": []
    },
    "kernelspec": {
      "name": "python3",
      "display_name": "Python 3"
    }
  },
  "cells": [
    {
      "cell_type": "markdown",
      "metadata": {
        "id": "y-XEAtEaad8N",
        "colab_type": "text"
      },
      "source": [
        "# <span style=\"color:blue\"> **Pandas - Basics** </span>\n",
        "### Exercise 00: Series\n",
        "\n",
        "- Create a one-dimensional labeled array capable of holding any data type using a Series.\n",
        "\n",
        "  Output:\n",
        "  \n",
        "      #> A 3\n",
        "      #> B 5\n",
        "      #> C 7\n",
        "      #> D 4\n",
        "    "
      ]
    },
    {
      "cell_type": "code",
      "metadata": {
        "id": "yTNZWbzlal1I",
        "colab_type": "code",
        "colab": {
          "base_uri": "https://localhost:8080/",
          "height": 102
        },
        "outputId": "0c8c0b84-c2f5-4bef-cbb3-86e7ab96951c"
      },
      "source": [
        "import pandas as pd\n",
        "import numpy as np\n",
        "\n",
        "data = np.array([3,5,7,4])\n",
        "\n",
        "serie = pd.Series(data, index=['A','B','C','D'])\n",
        "\n",
        "print(serie)\n",
        "\n",
        "# Pandas Series is a one-dimensional labeled array capable of holding data of any type\n",
        "# (integer, string, float, python objects, etc.)."
      ],
      "execution_count": 8,
      "outputs": [
        {
          "output_type": "stream",
          "text": [
            "A    3\n",
            "B    5\n",
            "C    7\n",
            "D    4\n",
            "dtype: int64\n"
          ],
          "name": "stdout"
        }
      ]
    },
    {
      "cell_type": "markdown",
      "metadata": {
        "id": "07NeDfXokN0C",
        "colab_type": "text"
      },
      "source": [
        "### Exercise 01: DataFrame\n",
        "\n",
        "- Create a two-dimensional labeled data structure with columns of potentially different types using a DataFrame.\n",
        "\n",
        "  Example: \n",
        "\n",
        "      data = {'Country': ['Belgium', 'India', 'Brazil'],\n",
        "      'Capital': ['Brussels', 'New Delhi', 'Brasilia'],\n",
        "      'Population': [11190846, 1303171035, 207847528]}"
      ]
    },
    {
      "cell_type": "code",
      "metadata": {
        "id": "rHxz13qSkZ58",
        "colab_type": "code",
        "colab": {
          "base_uri": "https://localhost:8080/",
          "height": 102
        },
        "outputId": "3e0de96d-2963-4f6e-bc11-984b2eeee5d2"
      },
      "source": [
        "data = {'Name':['Maria', 'Amit', 'Sergio', 'Karla'],'Age':[28,34,29,42]}\n",
        "\n",
        "df = pd.DataFrame(data)\n",
        "\n",
        "print(df)"
      ],
      "execution_count": 10,
      "outputs": [
        {
          "output_type": "stream",
          "text": [
            "     Name  Age\n",
            "0   Maria   28\n",
            "1    Amit   34\n",
            "2  Sergio   29\n",
            "3   Karla   42\n"
          ],
          "name": "stdout"
        }
      ]
    },
    {
      "cell_type": "markdown",
      "metadata": {
        "id": "v7hMLZJupzbb",
        "colab_type": "text"
      },
      "source": [
        "### Exercise 02: Display summary\n",
        "\n",
        "- Display a summary of the basic information about this DataFrame and its data.\n",
        "\n",
        "        data = {'animal': ['cat', 'cat', 'snake', 'dog', 'dog', 'cat', 'snake', 'cat', 'dog', 'dog'],\n",
        "        'age': [2.5, 3, 0.5, np.nan, 5, 2, 4.5, np.nan, 7, 3],\n",
        "        'visits': [1, 3, 2, 3, 2, 3, 1, 1, 2, 1],\n",
        "        'priority': ['yes', 'yes', 'no', 'yes', 'no', 'no', 'no', 'yes', 'no', 'no']}\n",
        "\n",
        "        labels = ['a', 'b', 'c', 'd', 'e', 'f', 'g', 'h', 'i', 'j']"
      ]
    },
    {
      "cell_type": "code",
      "metadata": {
        "id": "VJ_rV-MKqxzB",
        "colab_type": "code",
        "colab": {
          "base_uri": "https://localhost:8080/",
          "height": 747
        },
        "outputId": "f8930e42-7057-4b0c-e2e6-2971f8b0e3aa"
      },
      "source": [
        "data = {'animal': ['cat', 'cat', 'snake', 'dog', 'dog', 'cat', 'snake', 'cat', 'dog', 'dog'],\n",
        "'age': [2.5, 3, 0.5, np.nan, 5, 2, 4.5, np.nan, 7, 3],\n",
        "'visits': [1, 3, 2, 3, 2, 3, 1, 1, 2, 1],\n",
        "'priority': ['yes', 'yes', 'no', 'yes', 'no', 'no', 'no', 'yes', 'no', 'no']}\n",
        "\n",
        "df = pd.DataFrame(data)\n",
        "\n",
        "print(df, \"\\n\")\n",
        "\n",
        "\n",
        "# The info() function is used to print a concise summary of a DataFrame. \n",
        "# This method prints information about a DataFrame including the index dtype and column dtypes, non-null values and memory usage.\n",
        "\n",
        "df.info(verbose=True)\n",
        "\n",
        "\n",
        "# The describe() function is used to generate descriptive statistics that summarize the central tendency,\n",
        "# dispersion and shape of a dataset’s distribution, excluding NaN values.\n",
        "\n",
        "\n",
        "df.describe(include='all')\n",
        "\n",
        "# df.describe(include=[np.number])\n",
        "\n",
        "# df.describe(include=[np.object])\n",
        "\n"
      ],
      "execution_count": 34,
      "outputs": [
        {
          "output_type": "stream",
          "text": [
            "  animal  age  visits priority\n",
            "0    cat  2.5       1      yes\n",
            "1    cat  3.0       3      yes\n",
            "2  snake  0.5       2       no\n",
            "3    dog  NaN       3      yes\n",
            "4    dog  5.0       2       no\n",
            "5    cat  2.0       3       no\n",
            "6  snake  4.5       1       no\n",
            "7    cat  NaN       1      yes\n",
            "8    dog  7.0       2       no\n",
            "9    dog  3.0       1       no \n",
            "\n",
            "<class 'pandas.core.frame.DataFrame'>\n",
            "RangeIndex: 10 entries, 0 to 9\n",
            "Data columns (total 4 columns):\n",
            "animal      10 non-null object\n",
            "age         8 non-null float64\n",
            "visits      10 non-null int64\n",
            "priority    10 non-null object\n",
            "dtypes: float64(1), int64(1), object(2)\n",
            "memory usage: 448.0+ bytes\n"
          ],
          "name": "stdout"
        },
        {
          "output_type": "execute_result",
          "data": {
            "text/html": [
              "<div>\n",
              "<style scoped>\n",
              "    .dataframe tbody tr th:only-of-type {\n",
              "        vertical-align: middle;\n",
              "    }\n",
              "\n",
              "    .dataframe tbody tr th {\n",
              "        vertical-align: top;\n",
              "    }\n",
              "\n",
              "    .dataframe thead th {\n",
              "        text-align: right;\n",
              "    }\n",
              "</style>\n",
              "<table border=\"1\" class=\"dataframe\">\n",
              "  <thead>\n",
              "    <tr style=\"text-align: right;\">\n",
              "      <th></th>\n",
              "      <th>animal</th>\n",
              "      <th>age</th>\n",
              "      <th>visits</th>\n",
              "      <th>priority</th>\n",
              "    </tr>\n",
              "  </thead>\n",
              "  <tbody>\n",
              "    <tr>\n",
              "      <th>count</th>\n",
              "      <td>10</td>\n",
              "      <td>8.000000</td>\n",
              "      <td>10.000000</td>\n",
              "      <td>10</td>\n",
              "    </tr>\n",
              "    <tr>\n",
              "      <th>unique</th>\n",
              "      <td>3</td>\n",
              "      <td>NaN</td>\n",
              "      <td>NaN</td>\n",
              "      <td>2</td>\n",
              "    </tr>\n",
              "    <tr>\n",
              "      <th>top</th>\n",
              "      <td>cat</td>\n",
              "      <td>NaN</td>\n",
              "      <td>NaN</td>\n",
              "      <td>no</td>\n",
              "    </tr>\n",
              "    <tr>\n",
              "      <th>freq</th>\n",
              "      <td>4</td>\n",
              "      <td>NaN</td>\n",
              "      <td>NaN</td>\n",
              "      <td>6</td>\n",
              "    </tr>\n",
              "    <tr>\n",
              "      <th>mean</th>\n",
              "      <td>NaN</td>\n",
              "      <td>3.437500</td>\n",
              "      <td>1.900000</td>\n",
              "      <td>NaN</td>\n",
              "    </tr>\n",
              "    <tr>\n",
              "      <th>std</th>\n",
              "      <td>NaN</td>\n",
              "      <td>2.007797</td>\n",
              "      <td>0.875595</td>\n",
              "      <td>NaN</td>\n",
              "    </tr>\n",
              "    <tr>\n",
              "      <th>min</th>\n",
              "      <td>NaN</td>\n",
              "      <td>0.500000</td>\n",
              "      <td>1.000000</td>\n",
              "      <td>NaN</td>\n",
              "    </tr>\n",
              "    <tr>\n",
              "      <th>25%</th>\n",
              "      <td>NaN</td>\n",
              "      <td>2.375000</td>\n",
              "      <td>1.000000</td>\n",
              "      <td>NaN</td>\n",
              "    </tr>\n",
              "    <tr>\n",
              "      <th>50%</th>\n",
              "      <td>NaN</td>\n",
              "      <td>3.000000</td>\n",
              "      <td>2.000000</td>\n",
              "      <td>NaN</td>\n",
              "    </tr>\n",
              "    <tr>\n",
              "      <th>75%</th>\n",
              "      <td>NaN</td>\n",
              "      <td>4.625000</td>\n",
              "      <td>2.750000</td>\n",
              "      <td>NaN</td>\n",
              "    </tr>\n",
              "    <tr>\n",
              "      <th>max</th>\n",
              "      <td>NaN</td>\n",
              "      <td>7.000000</td>\n",
              "      <td>3.000000</td>\n",
              "      <td>NaN</td>\n",
              "    </tr>\n",
              "  </tbody>\n",
              "</table>\n",
              "</div>"
            ],
            "text/plain": [
              "       animal       age     visits priority\n",
              "count      10  8.000000  10.000000       10\n",
              "unique      3       NaN        NaN        2\n",
              "top       cat       NaN        NaN       no\n",
              "freq        4       NaN        NaN        6\n",
              "mean      NaN  3.437500   1.900000      NaN\n",
              "std       NaN  2.007797   0.875595      NaN\n",
              "min       NaN  0.500000   1.000000      NaN\n",
              "25%       NaN  2.375000   1.000000      NaN\n",
              "50%       NaN  3.000000   2.000000      NaN\n",
              "75%       NaN  4.625000   2.750000      NaN\n",
              "max       NaN  7.000000   3.000000      NaN"
            ]
          },
          "metadata": {
            "tags": []
          },
          "execution_count": 34
        }
      ]
    }
  ]
}