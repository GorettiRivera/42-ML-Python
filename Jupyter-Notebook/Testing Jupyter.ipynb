{
 "cells": [
  {
   "cell_type": "markdown",
   "metadata": {},
   "source": [
    "# Sample Headline\n",
    "\n",
    "*Note: This text will be italicized.\n",
    "\n",
    "## Another headline (H2)\n",
    "\n",
    "This is a normal paragraph.\n",
    "\n",
    "### What this notebook shows\n",
    "    1. How to get started with notebooks\n",
    "    2. How to execute code\n",
    "    3. How to add markdown\n",
    "    4. And... other stuff"
   ]
  },
  {
   "cell_type": "code",
   "execution_count": 24,
   "metadata": {},
   "outputs": [
    {
     "name": "stdout",
     "output_type": "stream",
     "text": [
      "Hello World\n"
     ]
    }
   ],
   "source": [
    "print('Hello World')"
   ]
  },
  {
   "cell_type": "markdown",
   "metadata": {},
   "source": [
    "## Special commands. If you put an exclamation point \"!\" then it will interpret this command as a bash command:"
   ]
  },
  {
   "cell_type": "code",
   "execution_count": 25,
   "metadata": {},
   "outputs": [
    {
     "name": "stdout",
     "output_type": "stream",
     "text": [
      "Package            Version   \r\n",
      "------------------ ----------\r\n",
      "appnope            0.1.0     \r\n",
      "astroid            2.3.0     \r\n",
      "attrs              19.3.0    \r\n",
      "backcall           0.1.0     \r\n",
      "beautifulsoup4     4.8.0     \r\n",
      "bleach             3.1.0     \r\n",
      "boto3              1.11.7    \r\n",
      "botocore           1.14.7    \r\n",
      "bs4                0.0.1     \r\n",
      "certifi            2019.6.16 \r\n",
      "chardet            3.0.4     \r\n",
      "cycler             0.10.0    \r\n",
      "decorator          4.4.1     \r\n",
      "defusedxml         0.6.0     \r\n",
      "docutils           0.15.2    \r\n",
      "entrypoints        0.3       \r\n",
      "get                2019.4.13 \r\n",
      "idna               2.8       \r\n",
      "importlib-metadata 0.23      \r\n",
      "ipykernel          5.1.3     \r\n",
      "ipython            7.9.0     \r\n",
      "ipython-genutils   0.2.0     \r\n",
      "ipywidgets         7.5.1     \r\n",
      "isort              4.3.21    \r\n",
      "jedi               0.15.1    \r\n",
      "Jinja2             2.10.3    \r\n",
      "jmespath           0.9.4     \r\n",
      "jsonschema         3.2.0     \r\n",
      "jupyter            1.0.0     \r\n",
      "jupyter-client     5.3.4     \r\n",
      "jupyter-console    6.0.0     \r\n",
      "jupyter-core       4.6.1     \r\n",
      "kiwisolver         1.1.0     \r\n",
      "lazy-object-proxy  1.4.2     \r\n",
      "MarkupSafe         1.1.1     \r\n",
      "matplotlib         3.1.2     \r\n",
      "mccabe             0.6.1     \r\n",
      "mistune            0.8.4     \r\n",
      "more-itertools     7.2.0     \r\n",
      "nbconvert          5.6.1     \r\n",
      "nbformat           4.4.0     \r\n",
      "notebook           6.0.2     \r\n",
      "numpy              1.18.1    \r\n",
      "pandocfilters      1.4.2     \r\n",
      "parso              0.5.1     \r\n",
      "pbr                5.4.3     \r\n",
      "pexpect            4.7.0     \r\n",
      "pickleshare        0.7.5     \r\n",
      "pip                20.0.1    \r\n",
      "pipenv             2018.11.26\r\n",
      "post               2019.4.13 \r\n",
      "prometheus-client  0.7.1     \r\n",
      "prompt-toolkit     2.0.10    \r\n",
      "ptyprocess         0.6.0     \r\n",
      "public             2019.4.13 \r\n",
      "pyandoc            0.0.1     \r\n",
      "Pygments           2.4.2     \r\n",
      "pylint             2.4.0     \r\n",
      "pyparsing          2.4.6     \r\n",
      "PyQt5              5.13.1    \r\n",
      "PyQt5-sip          12.7.0    \r\n",
      "pyrsistent         0.15.6    \r\n",
      "python-dateutil    2.8.1     \r\n",
      "pyzmq              18.1.1    \r\n",
      "qtconsole          4.6.0     \r\n",
      "query-string       2019.4.13 \r\n",
      "request            2019.4.13 \r\n",
      "requests           2.22.0    \r\n",
      "rope               0.14.0    \r\n",
      "s3transfer         0.3.1     \r\n",
      "selenium           3.141.0   \r\n",
      "Send2Trash         1.5.0     \r\n",
      "setuptools         40.8.0    \r\n",
      "six                1.12.0    \r\n",
      "soupsieve          1.9.4     \r\n",
      "stevedore          1.31.0    \r\n",
      "terminado          0.8.3     \r\n",
      "testpath           0.4.4     \r\n",
      "tornado            6.0.3     \r\n",
      "traitlets          4.3.3     \r\n",
      "twitter            1.17.0    \r\n",
      "TwitterFollowBot   2.0.2     \r\n",
      "typed-ast          1.4.0     \r\n",
      "urllib3            1.25.6    \r\n",
      "virtualenv         16.7.5    \r\n",
      "virtualenv-clone   0.5.3     \r\n",
      "virtualenvwrapper  4.8.4     \r\n",
      "wcwidth            0.1.7     \r\n",
      "webencodings       0.5.1     \r\n",
      "widgetsnbextension 3.5.1     \r\n",
      "wrapt              1.11.2    \r\n",
      "zipp               0.6.0     \r\n"
     ]
    }
   ],
   "source": [
    "!pip list"
   ]
  },
  {
   "cell_type": "markdown",
   "metadata": {},
   "source": [
    "## Built-in commands - They call magics, these are the ones that begin with either 1 %(line magics) or 2 % signs(cell magics)\n",
    "\n",
    "### List all the commands:"
   ]
  },
  {
   "cell_type": "code",
   "execution_count": 4,
   "metadata": {},
   "outputs": [
    {
     "data": {
      "application/json": {
       "cell": {
        "!": "OSMagics",
        "HTML": "Other",
        "SVG": "Other",
        "bash": "Other",
        "capture": "ExecutionMagics",
        "debug": "ExecutionMagics",
        "file": "Other",
        "html": "DisplayMagics",
        "javascript": "DisplayMagics",
        "js": "DisplayMagics",
        "latex": "DisplayMagics",
        "markdown": "DisplayMagics",
        "perl": "Other",
        "prun": "ExecutionMagics",
        "pypy": "Other",
        "python": "Other",
        "python2": "Other",
        "python3": "Other",
        "ruby": "Other",
        "script": "ScriptMagics",
        "sh": "Other",
        "svg": "DisplayMagics",
        "sx": "OSMagics",
        "system": "OSMagics",
        "time": "ExecutionMagics",
        "timeit": "ExecutionMagics",
        "writefile": "OSMagics"
       },
       "line": {
        "alias": "OSMagics",
        "alias_magic": "BasicMagics",
        "autoawait": "AsyncMagics",
        "autocall": "AutoMagics",
        "automagic": "AutoMagics",
        "autosave": "KernelMagics",
        "bookmark": "OSMagics",
        "cat": "Other",
        "cd": "OSMagics",
        "clear": "KernelMagics",
        "colors": "BasicMagics",
        "conda": "PackagingMagics",
        "config": "ConfigMagics",
        "connect_info": "KernelMagics",
        "cp": "Other",
        "debug": "ExecutionMagics",
        "dhist": "OSMagics",
        "dirs": "OSMagics",
        "doctest_mode": "BasicMagics",
        "ed": "Other",
        "edit": "KernelMagics",
        "env": "OSMagics",
        "gui": "BasicMagics",
        "hist": "Other",
        "history": "HistoryMagics",
        "killbgscripts": "ScriptMagics",
        "ldir": "Other",
        "less": "KernelMagics",
        "lf": "Other",
        "lk": "Other",
        "ll": "Other",
        "load": "CodeMagics",
        "load_ext": "ExtensionMagics",
        "loadpy": "CodeMagics",
        "logoff": "LoggingMagics",
        "logon": "LoggingMagics",
        "logstart": "LoggingMagics",
        "logstate": "LoggingMagics",
        "logstop": "LoggingMagics",
        "ls": "Other",
        "lsmagic": "BasicMagics",
        "lx": "Other",
        "macro": "ExecutionMagics",
        "magic": "BasicMagics",
        "man": "KernelMagics",
        "matplotlib": "PylabMagics",
        "mkdir": "Other",
        "more": "KernelMagics",
        "mv": "Other",
        "notebook": "BasicMagics",
        "page": "BasicMagics",
        "pastebin": "CodeMagics",
        "pdb": "ExecutionMagics",
        "pdef": "NamespaceMagics",
        "pdoc": "NamespaceMagics",
        "pfile": "NamespaceMagics",
        "pinfo": "NamespaceMagics",
        "pinfo2": "NamespaceMagics",
        "pip": "PackagingMagics",
        "popd": "OSMagics",
        "pprint": "BasicMagics",
        "precision": "BasicMagics",
        "prun": "ExecutionMagics",
        "psearch": "NamespaceMagics",
        "psource": "NamespaceMagics",
        "pushd": "OSMagics",
        "pwd": "OSMagics",
        "pycat": "OSMagics",
        "pylab": "PylabMagics",
        "qtconsole": "KernelMagics",
        "quickref": "BasicMagics",
        "recall": "HistoryMagics",
        "rehashx": "OSMagics",
        "reload_ext": "ExtensionMagics",
        "rep": "Other",
        "rerun": "HistoryMagics",
        "reset": "NamespaceMagics",
        "reset_selective": "NamespaceMagics",
        "rm": "Other",
        "rmdir": "Other",
        "run": "ExecutionMagics",
        "save": "CodeMagics",
        "sc": "OSMagics",
        "set_env": "OSMagics",
        "store": "StoreMagics",
        "sx": "OSMagics",
        "system": "OSMagics",
        "tb": "ExecutionMagics",
        "time": "ExecutionMagics",
        "timeit": "ExecutionMagics",
        "unalias": "OSMagics",
        "unload_ext": "ExtensionMagics",
        "who": "NamespaceMagics",
        "who_ls": "NamespaceMagics",
        "whos": "NamespaceMagics",
        "xdel": "NamespaceMagics",
        "xmode": "BasicMagics"
       }
      },
      "text/plain": [
       "Available line magics:\n",
       "%alias  %alias_magic  %autoawait  %autocall  %automagic  %autosave  %bookmark  %cat  %cd  %clear  %colors  %conda  %config  %connect_info  %cp  %debug  %dhist  %dirs  %doctest_mode  %ed  %edit  %env  %gui  %hist  %history  %killbgscripts  %ldir  %less  %lf  %lk  %ll  %load  %load_ext  %loadpy  %logoff  %logon  %logstart  %logstate  %logstop  %ls  %lsmagic  %lx  %macro  %magic  %man  %matplotlib  %mkdir  %more  %mv  %notebook  %page  %pastebin  %pdb  %pdef  %pdoc  %pfile  %pinfo  %pinfo2  %pip  %popd  %pprint  %precision  %prun  %psearch  %psource  %pushd  %pwd  %pycat  %pylab  %qtconsole  %quickref  %recall  %rehashx  %reload_ext  %rep  %rerun  %reset  %reset_selective  %rm  %rmdir  %run  %save  %sc  %set_env  %store  %sx  %system  %tb  %time  %timeit  %unalias  %unload_ext  %who  %who_ls  %whos  %xdel  %xmode\n",
       "\n",
       "Available cell magics:\n",
       "%%!  %%HTML  %%SVG  %%bash  %%capture  %%debug  %%file  %%html  %%javascript  %%js  %%latex  %%markdown  %%perl  %%prun  %%pypy  %%python  %%python2  %%python3  %%ruby  %%script  %%sh  %%svg  %%sx  %%system  %%time  %%timeit  %%writefile\n",
       "\n",
       "Automagic is ON, % prefix IS NOT needed for line magics."
      ]
     },
     "execution_count": 4,
     "metadata": {},
     "output_type": "execute_result"
    }
   ],
   "source": [
    "%lsmagic"
   ]
  },
  {
   "cell_type": "code",
   "execution_count": 26,
   "metadata": {},
   "outputs": [
    {
     "data": {
      "text/plain": [
       "'/Users/gorettirivera/Documents/Python/Jupyter-Demo'"
      ]
     },
     "execution_count": 26,
     "metadata": {},
     "output_type": "execute_result"
    }
   ],
   "source": [
    "%pwd"
   ]
  },
  {
   "cell_type": "code",
   "execution_count": 27,
   "metadata": {},
   "outputs": [
    {
     "name": "stdout",
     "output_type": "stream",
     "text": [
      "total 88\r\n",
      "88 -rw-r--r--  1 gorettirivera  staff  42296 Jan 22 13:24 Testing Jupyter.ipynb\r\n"
     ]
    }
   ],
   "source": [
    "%ls -ls"
   ]
  },
  {
   "cell_type": "code",
   "execution_count": 2,
   "metadata": {},
   "outputs": [],
   "source": [
    "%matplotlib inline"
   ]
  },
  {
   "cell_type": "code",
   "execution_count": 3,
   "metadata": {},
   "outputs": [
    {
     "data": {
      "image/png": "[encoded data removed]",
      "text/plain": [
       "<Figure size 432x288 with 1 Axes>"
      ]
     },
     "metadata": {
      "needs_background": "light"
     },
     "output_type": "display_data"
    }
   ],
   "source": [
    "\"\"\"\n",
    "Simple demo of a scatter plot.\n",
    "\"\"\"\n",
    "\n",
    "import numpy as np\n",
    "import matplotlib.pyplot as plt\n",
    "\n",
    "N = 50\n",
    "x = np.random.rand(N)\n",
    "y = np.random.rand(N)\n",
    "colors = np.random.rand(N)\n",
    "area = np.pi * (15 * np.random.rand(N))**2 # 0 to 15 point radiuses\n",
    "\n",
    "plt.scatter(x, y, s=area, c=colors, alpha=0.5)\n",
    "plt.show()"
   ]
  },
  {
   "cell_type": "code",
   "execution_count": 22,
   "metadata": {},
   "outputs": [
    {
     "data": {
      "text/html": [
       "<iframe width=\"560\" height=\"315\" src=\"https://www.youtube.com/embed/YJC6ldI3hWk\" frameborder=\"0\" allowfullscreen></iframe>\n"
      ],
      "text/plain": [
       "<IPython.core.display.HTML object>"
      ]
     },
     "metadata": {},
     "output_type": "display_data"
    }
   ],
   "source": [
    "%%HTML\n",
    "<iframe width=\"560\" height=\"315\" src=\"https://www.youtube.com/embed/YJC6ldI3hWk\" frameborder=\"0\" allowfullscreen></iframe>"
   ]
  },
  {
   "cell_type": "code",
   "execution_count": 23,
   "metadata": {},
   "outputs": [
    {
     "name": "stdout",
     "output_type": "stream",
     "text": [
      "57 µs ± 1.31 µs per loop (mean ± std. dev. of 7 runs, 10000 loops each)\n"
     ]
    }
   ],
   "source": [
    "%%timeit\n",
    "square_events = [n*n for n in range(1000)]"
   ]
  },
  {
   "cell_type": "code",
   "execution_count": 30,
   "metadata": {},
   "outputs": [
    {
     "data": {
      "text/html": [
       "<div>\n",
       "<style scoped>\n",
       "    .dataframe tbody tr th:only-of-type {\n",
       "        vertical-align: middle;\n",
       "    }\n",
       "\n",
       "    .dataframe tbody tr th {\n",
       "        vertical-align: top;\n",
       "    }\n",
       "\n",
       "    .dataframe thead th {\n",
       "        text-align: right;\n",
       "    }\n",
       "</style>\n",
       "<table border=\"1\" class=\"dataframe\">\n",
       "  <thead>\n",
       "    <tr style=\"text-align: right;\">\n",
       "      <th></th>\n",
       "      <th>0</th>\n",
       "      <th>1</th>\n",
       "      <th>2</th>\n",
       "      <th>3</th>\n",
       "      <th>4</th>\n",
       "    </tr>\n",
       "  </thead>\n",
       "  <tbody>\n",
       "    <tr>\n",
       "      <th>0</th>\n",
       "      <td>0.003371</td>\n",
       "      <td>-1.928414</td>\n",
       "      <td>-0.847840</td>\n",
       "      <td>0.716744</td>\n",
       "      <td>-2.165525</td>\n",
       "    </tr>\n",
       "    <tr>\n",
       "      <th>1</th>\n",
       "      <td>-0.127760</td>\n",
       "      <td>0.721073</td>\n",
       "      <td>-0.327160</td>\n",
       "      <td>1.344679</td>\n",
       "      <td>-1.831936</td>\n",
       "    </tr>\n",
       "    <tr>\n",
       "      <th>2</th>\n",
       "      <td>-0.971986</td>\n",
       "      <td>-1.221390</td>\n",
       "      <td>-0.499708</td>\n",
       "      <td>0.171986</td>\n",
       "      <td>-0.707803</td>\n",
       "    </tr>\n",
       "    <tr>\n",
       "      <th>3</th>\n",
       "      <td>-1.119859</td>\n",
       "      <td>-0.156146</td>\n",
       "      <td>0.420273</td>\n",
       "      <td>-0.307720</td>\n",
       "      <td>-1.729089</td>\n",
       "    </tr>\n",
       "    <tr>\n",
       "      <th>4</th>\n",
       "      <td>1.451906</td>\n",
       "      <td>2.227316</td>\n",
       "      <td>2.119390</td>\n",
       "      <td>0.448518</td>\n",
       "      <td>0.391624</td>\n",
       "    </tr>\n",
       "  </tbody>\n",
       "</table>\n",
       "</div>"
      ],
      "text/plain": [
       "          0         1         2         3         4\n",
       "0  0.003371 -1.928414 -0.847840  0.716744 -2.165525\n",
       "1 -0.127760  0.721073 -0.327160  1.344679 -1.831936\n",
       "2 -0.971986 -1.221390 -0.499708  0.171986 -0.707803\n",
       "3 -1.119859 -0.156146  0.420273 -0.307720 -1.729089\n",
       "4  1.451906  2.227316  2.119390  0.448518  0.391624"
      ]
     },
     "execution_count": 30,
     "metadata": {},
     "output_type": "execute_result"
    }
   ],
   "source": [
    "import pandas as pd\n",
    "import numpy as np\n",
    "\n",
    "df = pd.DataFrame(np.random.randn(10,5))\n",
    "df.head()"
   ]
  }
 ],
 "metadata": {
  "kernelspec": {
   "display_name": "Python 3",
   "language": "python",
   "name": "python3"
  },
  "language_info": {
   "codemirror_mode": {
    "name": "ipython",
    "version": 3
   },
   "file_extension": ".py",
   "mimetype": "text/x-python",
   "name": "python",
   "nbconvert_exporter": "python",
   "pygments_lexer": "ipython3",
   "version": "3.7.4"
  }
 },
 "nbformat": 4,
 "nbformat_minor": 2
}
